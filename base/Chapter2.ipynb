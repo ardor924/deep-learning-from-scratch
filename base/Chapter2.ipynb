{
 "cells": [
  {
   "cell_type": "markdown",
   "metadata": {},
   "source": [
    "# CH2. 퍼셉트론\n",
    "-----------------------------"
   ]
  },
  {
   "cell_type": "markdown",
   "metadata": {},
   "source": [
    "## 목차\n",
    "---------------------------------\n",
    "* 2.1 퍼셉트론이란? \n",
    "<p>  \n",
    "\n",
    "* 2.2 단순한 논리 회로 \n",
    "  * 2.2.1 AND 게이트 \n",
    "  * 2.2.2 NAND 게이트와 OR 게이트 \n",
    "<p>  \n",
    "  \n",
    "* 2.3 퍼셉트론 구현하기 \n",
    "  * 2.3.1 간단한 구현부터 \n",
    "  * 2.3.2 가중치와 편향 도입 \n",
    "  * 2.3.3 가중치와 편향 구현하기 \n",
    "<p>  \n",
    "\n",
    "* 2.4 퍼셉트론의 한계 \n",
    "  * 도전! XOR 게이트\n",
    "  * 2.4.2 선형과 비선형 \n",
    "<p>  \n",
    "\n",
    "* 2.5 다층 퍼셉트론이 출동한다면 \n",
    "  * 2.5.1 기존 게이트 조합하기 \n",
    "  * 2.5.2 XOR 게이트 구현하기 \n",
    "<p>  \n",
    "\n",
    "* 2.6 NAND에서 컴퓨터까지\n",
    "<p>  \n"
   ]
  },
  {
   "cell_type": "markdown",
   "metadata": {},
   "source": [
    "## 2.1 퍼셉트론이란?\n",
    "----------------------\n"
   ]
  },
  {
   "cell_type": "markdown",
   "metadata": {},
   "source": [
    "정의 : 다수의 신호를 입력받아 하나의 신호를 출력하는것\n",
    "<br><br>\n",
    "퍼셉트론의 신호 : 전류나 강물처럼 흐름이 있는것 (값은 0과1 만 존재)(흐른다:1,안흐른다:0)"
   ]
  },
  {
   "cell_type": "markdown",
   "metadata": {},
   "source": [
    "🔻입력이2개인 퍼셉트론\n",
    "<br>\n",
    "<br><img src=\"./images/ch2_입력이2개인 퍼셉트론.png\" width=\"320\">"
   ]
  },
  {
   "cell_type": "markdown",
   "metadata": {},
   "source": [
    "🔻 퍼셉트론 동작원리 수식\n",
    "<br>\n",
    "<br><img src=\"./images/ch2_입력이2개인 퍼셉트론_수식.png\" width=\"320\">"
   ]
  },
  {
   "cell_type": "markdown",
   "metadata": {},
   "source": [
    "## 2.2 단순 논리회로\n",
    "----------------------\n"
   ]
  },
  {
   "cell_type": "markdown",
   "metadata": {},
   "source": [
    "### 2.2.1 AND 게이트\n",
    "----------------------\n"
   ]
  },
  {
   "cell_type": "markdown",
   "metadata": {},
   "source": [
    "설명 : AND 게이트는 입력이 둘이고 출력은 하나"
   ]
  },
  {
   "cell_type": "markdown",
   "metadata": {},
   "source": [
    "🔻 AND게이트의 진리표\n",
    "<br>\n",
    "<br><img src=\"./images/ch2_AND게이트.png\" width=\"320\">"
   ]
  },
  {
   "cell_type": "markdown",
   "metadata": {},
   "source": [
    "### 2.2.2 NAND 게이트와 OR게이트\n",
    "----------------------\n"
   ]
  },
  {
   "cell_type": "markdown",
   "metadata": {},
   "source": [
    "1. **NAND게이트**\n",
    "<br></br>\n",
    "설명 : AND게이트의 출력을 뒤집은것"
   ]
  },
  {
   "cell_type": "markdown",
   "metadata": {},
   "source": [
    "🔻 NAND게이트의 진리표\n",
    "<br>\n",
    "<br><img src=\"./images/ch2_NAND게이트.png\" width=\"320\">"
   ]
  },
  {
   "cell_type": "markdown",
   "metadata": {},
   "source": [
    "2. **OR게이트**\n",
    "<br></br>\n",
    "설명 : 입력신호중 하나 이상이 1이면 1을 출력"
   ]
  },
  {
   "cell_type": "markdown",
   "metadata": {},
   "source": [
    "🔻 NAND게이트의 진리표\n",
    "<br>\n",
    "<br><img src=\"./images/ch2_OR게이트.png\" width=\"320\">"
   ]
  },
  {
   "cell_type": "markdown",
   "metadata": {},
   "source": [
    "🔻 AND , NANAD , OR 비교\n",
    "<br>\n",
    "<br><img src=\"./images/ch2_AND게이트.png\" width=\"320\" height='200'>\n",
    "<img src=\"./images/ch2_NAND게이트.png\" width=\"320\" height='200'>\n",
    "<img src=\"./images/ch2_OR게이트.png\" width=\"320\" height='200'>\n",
    "<caption style=\"text-align: center;\">AND게이트 / NAND게이트 / OR게이트</caption>\n"
   ]
  },
  {
   "cell_type": "markdown",
   "metadata": {},
   "source": [
    "## 2.3 퍼셉트론 구현하기\n",
    "----------------------\n"
   ]
  },
  {
   "cell_type": "markdown",
   "metadata": {},
   "source": [
    "### 2.3.1 간단한 구현\n",
    "----------------------\n"
   ]
  },
  {
   "cell_type": "code",
   "execution_count": 1,
   "metadata": {},
   "outputs": [],
   "source": [
    "def AND(x1,x2) :\n",
    "    w1,w2, theta = 0.5,0.5,0.7\n",
    "    tmp = x1*w1 + x2*w2\n",
    "    if tmp <= theta :\n",
    "        return 0\n",
    "    else :\n",
    "        return 1"
   ]
  },
  {
   "cell_type": "code",
   "execution_count": 3,
   "metadata": {},
   "outputs": [
    {
     "name": "stdout",
     "output_type": "stream",
     "text": [
      "0\n",
      "0\n",
      "0\n",
      "1\n"
     ]
    }
   ],
   "source": [
    "print(AND(0,0))\n",
    "print(AND(1,0))\n",
    "print(AND(0,1))\n",
    "print(AND(1,1))"
   ]
  },
  {
   "cell_type": "markdown",
   "metadata": {},
   "source": [
    "### 2.3.2 가중치와 편향도입\n",
    "----------------------\n"
   ]
  },
  {
   "cell_type": "code",
   "execution_count": null,
   "metadata": {},
   "outputs": [],
   "source": [
    "import numpy as np\n"
   ]
  }
 ],
 "metadata": {
  "kernelspec": {
   "display_name": "DL",
   "language": "python",
   "name": "python3"
  },
  "language_info": {
   "codemirror_mode": {
    "name": "ipython",
    "version": 3
   },
   "file_extension": ".py",
   "mimetype": "text/x-python",
   "name": "python",
   "nbconvert_exporter": "python",
   "pygments_lexer": "ipython3",
   "version": "3.8.10"
  },
  "orig_nbformat": 4
 },
 "nbformat": 4,
 "nbformat_minor": 2
}
